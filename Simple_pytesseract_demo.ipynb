{
  "nbformat": 4,
  "nbformat_minor": 0,
  "metadata": {
    "colab": {
      "name": "Simple pytesseract demo.ipynb",
      "version": "0.3.2",
      "provenance": [],
      "collapsed_sections": [],
      "include_colab_link": true
    },
    "kernelspec": {
      "name": "python3",
      "display_name": "Python 3"
    }
  },
  "cells": [
    {
      "cell_type": "markdown",
      "metadata": {
        "id": "view-in-github",
        "colab_type": "text"
      },
      "source": [
        "<a href=\"https://colab.research.google.com/github/MohanaRC/Backup/blob/master/Simple_pytesseract_demo.ipynb\" target=\"_parent\"><img src=\"https://colab.research.google.com/assets/colab-badge.svg\" alt=\"Open In Colab\"/></a>"
      ]
    },
    {
      "cell_type": "markdown",
      "metadata": {
        "id": "RGQ5pFdXA7er",
        "colab_type": "text"
      },
      "source": [
        "**Problem statement :**\n",
        "\n",
        "You are given 7 by 7 matrix of images in which each image has a number less than 100 written in a green, blue or red background.\n",
        "Using OCR and other computer vision techniques find sum of no.s in images with green background.\n",
        "Please make any assumptions required."
      ]
    },
    {
      "cell_type": "markdown",
      "metadata": {
        "id": "CU_fiVL6BepO",
        "colab_type": "text"
      },
      "source": [
        "**Assumptions**\n",
        "\n",
        "- For the demo, I arbitary sized images available online have been considered and their paths are saved in a text file\n",
        "- The image urls are appended in a 7x7 list and the images are being read from the list. The steps of reading images will be reduced if images are appended directly to the list instead of urls, but the remanining steps are the same\n",
        "- All numbers are assumed to in white\n",
        "- The problem does not involve recognising handwriting, captcha etc\n",
        "\n",
        "\n",
        "**Suggested solution**\n",
        "\n",
        "OCR Libraries available in Python can be used directly in cases\n",
        "\n",
        "For OCR, I am going to use PyTesseract library. \n",
        "\n",
        "\n",
        "**Main Libraries used**\n",
        "\n",
        "- PyTesseract for OCR\n",
        "- OpenCV for image handling \n",
        "- Matplotlib for display"
      ]
    },
    {
      "cell_type": "code",
      "metadata": {
        "id": "UDGjuhEPAcmb",
        "colab_type": "code",
        "outputId": "8c430051-dfd4-4a29-d963-a3a0ae9cd63e",
        "colab": {
          "base_uri": "https://localhost:8080/",
          "height": 34
        }
      },
      "source": [
        "#### Importing libraries \n",
        "\n",
        "import io\n",
        "import pytesseract\n",
        "from PIL import Image, ImageFilter, ImageEnhance\n",
        "import cv2\n",
        "import matplotlib.pyplot as plt\n",
        "import urllib\n",
        "import numpy as np\n",
        "\n",
        "%matplotlib inline\n",
        "#For loading files from drive only\n",
        "from google.colab import drive\n",
        "drive.mount('/content/drive')"
      ],
      "execution_count": 0,
      "outputs": [
        {
          "output_type": "stream",
          "text": [
            "Drive already mounted at /content/drive; to attempt to forcibly remount, call drive.mount(\"/content/drive\", force_remount=True).\n"
          ],
          "name": "stdout"
        }
      ]
    },
    {
      "cell_type": "code",
      "metadata": {
        "id": "MWPym5uPAyP_",
        "colab_type": "code",
        "colab": {}
      },
      "source": [
        "#### The url paths have been saved in the text file digit_image_paths.txt . The file is read, interated over and the images are saved as elements of a 7*7 list. \n",
        "#### THESE FUNCTIONS ARE ONLY TO CONVERT DATA IN THE REQUIRED FORMAT\n",
        "\n",
        "def convert_url_to_image(link):\n",
        "    '''Function to download the images from the link and return the image as a numpy array'''\n",
        "    resp = urllib.request.urlopen(link)\n",
        "    image = np.asarray(bytearray(resp.read()),dtype=\"uint8\")\n",
        "    image = cv2.imdecode(image, cv2.IMREAD_COLOR)\n",
        "    return image\n",
        "\n",
        "\n",
        "def create_image_matrix(file_path):\n",
        "    '''Function to read urls from text files, fetch images from urls and and append them in a 7*7 list format and return the list to the user'''\n",
        "    file_obj = open(file_path, \"r\")\n",
        "    image_list=[]\n",
        "    for x in file_obj:\n",
        "        ### Fetch images from the link\n",
        "        image=convert_url_to_image(x)\n",
        "        image_list.append(image)\n",
        "    list_images=np.array(image_list).reshape(7,7)\n",
        "    return list_images\n",
        "      \n",
        "\n",
        " \n",
        "list_images=create_image_matrix(\"/content/drive/My Drive/Colab Notebooks/digit_image_paths.txt\")"
      ],
      "execution_count": 0,
      "outputs": []
    },
    {
      "cell_type": "markdown",
      "metadata": {
        "id": "4difJ_2wlgAH",
        "colab_type": "text"
      },
      "source": [
        "Displaying two random images and shape of the array where the images are stored"
      ]
    },
    {
      "cell_type": "code",
      "metadata": {
        "id": "EFVX4w1vkPtr",
        "colab_type": "code",
        "outputId": "d17864ea-9f6d-4c95-da35-1b2b68eed560",
        "colab": {
          "base_uri": "https://localhost:8080/",
          "height": 286
        }
      },
      "source": [
        "plt.imshow(list_images[0][3])\n"
      ],
      "execution_count": 0,
      "outputs": [
        {
          "output_type": "execute_result",
          "data": {
            "text/plain": [
              "<matplotlib.image.AxesImage at 0x7fbd1746ca58>"
            ]
          },
          "metadata": {
            "tags": []
          },
          "execution_count": 5
        },
        {
          "output_type": "display_data",
          "data": {
            "image/png": "[encoded data removed]",
            "text/plain": [
              "<Figure size 432x288 with 1 Axes>"
            ]
          },
          "metadata": {
            "tags": []
          }
        }
      ]
    },
    {
      "cell_type": "code",
      "metadata": {
        "id": "lkFRQ_l9lJZu",
        "colab_type": "code",
        "outputId": "7dbb1ba0-764a-43ac-82a2-e3ec987938c4",
        "colab": {
          "base_uri": "https://localhost:8080/",
          "height": 286
        }
      },
      "source": [
        "plt.imshow(list_images[0][6])"
      ],
      "execution_count": 0,
      "outputs": [
        {
          "output_type": "execute_result",
          "data": {
            "text/plain": [
              "<matplotlib.image.AxesImage at 0x7fbd14bf9cf8>"
            ]
          },
          "metadata": {
            "tags": []
          },
          "execution_count": 6
        },
        {
          "output_type": "display_data",
          "data": {
            "image/png": "[encoded data removed]",
            "text/plain": [
              "<Figure size 432x288 with 1 Axes>"
            ]
          },
          "metadata": {
            "tags": []
          }
        }
      ]
    },
    {
      "cell_type": "code",
      "metadata": {
        "id": "iPJTZ9BAlaSY",
        "colab_type": "code",
        "outputId": "9b2d672f-9215-4486-addd-ef3ef56d7edb",
        "colab": {
          "base_uri": "https://localhost:8080/",
          "height": 34
        }
      },
      "source": [
        "list_images.shape"
      ],
      "execution_count": 0,
      "outputs": [
        {
          "output_type": "execute_result",
          "data": {
            "text/plain": [
              "(7, 7)"
            ]
          },
          "metadata": {
            "tags": []
          },
          "execution_count": 7
        }
      ]
    },
    {
      "cell_type": "code",
      "metadata": {
        "id": "7rCxlS_1lqas",
        "colab_type": "code",
        "outputId": "2fee20b3-a08e-4a76-a97c-e8084ab25f85",
        "colab": {
          "base_uri": "https://localhost:8080/",
          "height": 34
        }
      },
      "source": [
        "#### Defining limits for green images\n",
        "lower_green = np.array([40,100,100])\n",
        "upper_green = np.array([100,255,255])\n",
        "\n",
        "def find_green(image):\n",
        "    ## Changing colorspaces for more robust color detection\n",
        "    im2=cv2.cvtColor(image, cv2.COLOR_BGR2HSV)\n",
        "    mask = cv2.inRange(im2, lower_green, upper_green)\n",
        "    ### The masking within range gives lower values for non green backgrounds and higher values for green background. Assuming 50 here\n",
        "    if np.mean(mask)>50:\n",
        "        return 1\n",
        "    else:\n",
        "        return 0\n",
        "\n",
        "     \n",
        "    \n",
        "def OCR_function(list_images):\n",
        "    list_images.flatten()\n",
        "    ### Loop through the images\n",
        "    sum_green=0\n",
        "    for i in range(list_images.shape[0]-1):\n",
        "        for j in range(list_images.shape[1]-1):\n",
        "            im1=list_images[i][j]\n",
        "            green_flag=find_green(im1)\n",
        "            if green_flag==1:\n",
        "                ### Note the image border cropping is explicitly for our case since all the images come with approximately 25 sized black boundary which interferes with the segmentation process\n",
        "                imagetext = pytesseract.image_to_string(im1[25:im1.shape[0]-25,25:im1.shape[1]-25 ], config='--psm 10 --oem 3 -c tessedit_char_whitelist=0123456789')\n",
        "                num_text=int(imagetext)\n",
        "                sum_green=sum_green+num_text\n",
        "    return sum_green\n",
        "                \n",
        "            \n",
        "\n",
        "sum_green=OCR_function(list_images)\n",
        "print (\"Sum of numbers in green backgrounds are :\", sum_green)\n"
      ],
      "execution_count": 0,
      "outputs": [
        {
          "output_type": "stream",
          "text": [
            "Sum of numbers in green backgrounds are : 60\n"
          ],
          "name": "stdout"
        }
      ]
    }
  ]
}